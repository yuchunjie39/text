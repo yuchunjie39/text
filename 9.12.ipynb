{
 "cells": [
  {
   "cell_type": "markdown",
   "metadata": {},
   "source": [
    "# 选择\n",
    "## 布尔类型、数值和表达式\n",
    "![](../Photo/33.png)\n",
    "- 注意：比较运算符的相等是两个等到，一个等到代表赋值\n",
    "- 在Python中可以用整型0来代表False，其他数字来代表True\n",
    "- 后面还会讲到 is 在判断语句中的用发"
   ]
  },
  {
   "cell_type": "code",
   "execution_count": 3,
   "metadata": {},
   "outputs": [
    {
     "data": {
      "text/plain": [
       "True"
      ]
     },
     "execution_count": 3,
     "metadata": {},
     "output_type": "execute_result"
    }
   ],
   "source": [
    "#一个=为赋值\n",
    "10 <= 10\n",
    "0 == False"
   ]
  },
  {
   "cell_type": "markdown",
   "metadata": {},
   "source": [
    "## 字符串的比较使用ASCII值"
   ]
  },
  {
   "cell_type": "code",
   "execution_count": 4,
   "metadata": {},
   "outputs": [
    {
     "data": {
      "text/plain": [
       "False"
      ]
     },
     "execution_count": 4,
     "metadata": {},
     "output_type": "execute_result"
    }
   ],
   "source": [
    "'a' > 'b'"
   ]
  },
  {
   "cell_type": "code",
   "execution_count": 7,
   "metadata": {},
   "outputs": [
    {
     "name": "stdout",
     "output_type": "stream",
     "text": [
      "请输入成绩：98\n",
      "成绩优秀\n"
     ]
    }
   ],
   "source": [
    "num = eval(input('请输入成绩：'))\n",
    "if 0 < num < 60:\n",
    "    print('成绩不及格')\n",
    "elif 60 <= num < 70:\n",
    "    print('成绩一般')\n",
    "elif 70 <= num < 80:\n",
    "    print('成绩良好')\n",
    "elif 80 <= num <=100:\n",
    "    print('成绩优秀')\n",
    "elif num >100:\n",
    "    print('成绩不合法')"
   ]
  },
  {
   "cell_type": "markdown",
   "metadata": {},
   "source": [
    "## Markdown \n",
    "- https://github.com/younghz/Markdown"
   ]
  },
  {
   "cell_type": "markdown",
   "metadata": {},
   "source": [
    "## EP:\n",
    "- <img src=\"../Photo/34.png\"></img>\n",
    "- 输入一个数字，判断其实奇数还是偶数"
   ]
  },
  {
   "cell_type": "markdown",
   "metadata": {},
   "source": [
    "## 产生随机数字\n",
    "- 函数random.randint(a,b) 可以用来产生一个a和b之间且包括a和b的随机整数"
   ]
  },
  {
   "cell_type": "code",
   "execution_count": 21,
   "metadata": {},
   "outputs": [
    {
     "name": "stdout",
     "output_type": "stream",
     "text": [
      "输入猜测的随机数：2\n",
      "没有猜对，继续输入：3\n",
      "没有猜对，继续输入：4\n",
      "没有猜对，继续输入：5\n",
      "没有猜对，继续输入：6\n",
      "恭喜你猜对了 6\n"
     ]
    }
   ],
   "source": [
    "import random\n",
    "number = eval(input('输入猜测的随机数：'))\n",
    "num = random.randint(1,10)\n",
    "while number != num:\n",
    "    number = eval(input('没有猜对，继续输入：'))\n",
    "print('恭喜你猜对了 '+str(num))"
   ]
  },
  {
   "cell_type": "code",
   "execution_count": 36,
   "metadata": {},
   "outputs": [
    {
     "name": "stdout",
     "output_type": "stream",
     "text": [
      "输入猜测的随机数：5\n",
      "太大了\n",
      "输入猜测的随机数：4\n",
      "恭喜你猜对了！\n"
     ]
    }
   ],
   "source": [
    "import random\n",
    "num = random.randint(1,5)\n",
    "while True:\n",
    "    input_num = eval(input('输入猜测的随机数：'))\n",
    "    if input_num == num:\n",
    "        print('恭喜你猜对了！')\n",
    "        break\n",
    "    elif input_num > num:\n",
    "        print('太大了')\n",
    "    elif input_num < num:\n",
    "        print('太小了')"
   ]
  },
  {
   "cell_type": "code",
   "execution_count": 32,
   "metadata": {},
   "outputs": [
    {
     "data": {
      "text/plain": [
       "6"
      ]
     },
     "execution_count": 32,
     "metadata": {},
     "output_type": "execute_result"
    }
   ],
   "source": [
    "random.randrange(0,10,2)"
   ]
  },
  {
   "cell_type": "markdown",
   "metadata": {},
   "source": [
    "##  其他random方法\n",
    "- random.random 返回0.0到1.0之间前闭后开区间的随机浮点\n",
    "- random.randrange(a,b) 前闭后开"
   ]
  },
  {
   "cell_type": "markdown",
   "metadata": {},
   "source": [
    "## EP：\n",
    "- 产生两个随机整数number1和number2，然后显示给用户，使用户输入数字的和，并判定其是否正确\n",
    "- 进阶:写一个随机序号点名程序"
   ]
  },
  {
   "cell_type": "code",
   "execution_count": 3,
   "metadata": {},
   "outputs": [
    {
     "name": "stdout",
     "output_type": "stream",
     "text": [
      "num1:2\n",
      "num2:5\n",
      "输入num1与num2的和：7\n",
      "恭喜你答对了！\n"
     ]
    }
   ],
   "source": [
    "import random\n",
    "num1 = random.randint(1,5)\n",
    "num2 = random.randint(5,10)\n",
    "sum1 = num1 + num2\n",
    "print('num1:'+str(num1))\n",
    "print('num2:'+str(num2))\n",
    "input_sum = eval(input('输入num1与num2的和：'))\n",
    "if input_sum == sum1:\n",
    "    print('恭喜你答对了！')\n",
    "else :\n",
    "    print('答错了，继续努力')"
   ]
  },
  {
   "cell_type": "code",
   "execution_count": 14,
   "metadata": {},
   "outputs": [
    {
     "name": "stdout",
     "output_type": "stream",
     "text": [
      "请输入用户等级svip\n",
      "100\n",
      "100\n",
      "恭喜你，你该去搬砖了！！\n",
      "100\n",
      "恭喜你，你该去搬砖了！！\n",
      "100\n",
      "恭喜你，你该去搬砖了！！\n"
     ]
    }
   ],
   "source": [
    "import random\n",
    "i =3\n",
    "user  = input(\"请输入用户等级\")\n",
    "if user == 'svip':\n",
    "    a = random.randint(99,100)\n",
    "    print(a)\n",
    "elif user == 'vip':\n",
    "    a = random.randint(75,100)\n",
    "    print(a)\n",
    "else :\n",
    "    a = random.randint(0,100)\n",
    "    print(a)\n",
    "while i > 0:\n",
    "    i -= 1\n",
    "    print(a)\n",
    "    if 0 < a <=80 :\n",
    "        print(\"恭喜你，喜提狗命一条！\")\n",
    "    elif 80 < a <= 98:\n",
    "        print(\"恭喜你，快递老婆一个'\")\n",
    "    elif 99 <= a <= 100:\n",
    "        print(\"恭喜你，你该去搬砖了！！\")"
   ]
  },
  {
   "cell_type": "markdown",
   "metadata": {},
   "source": [
    "## if语句\n",
    "- 如果条件正确就执行一个单向if语句，亦即当条件为真的时候才执行if内部的语句\n",
    "- Python有很多选择语句:\n",
    "> - 单向if \n",
    "  - 双向if-else\n",
    "  - 嵌套if\n",
    "  - 多向if-elif-else\n",
    "  \n",
    "- 注意：当语句含有子语句的时候，那么一定至少要有一个缩进，也就是说如果有儿子存在，那么一定要缩进\n",
    "- 切记不可tab键和space混用，单用tab 或者 space\n",
    "- 当你输出的结果是无论if是否为真时都需要显示时，语句应该与if对齐"
   ]
  },
  {
   "cell_type": "code",
   "execution_count": null,
   "metadata": {},
   "outputs": [],
   "source": [
    "if condition:\n",
    "    pass\n",
    "else:\n",
    "    pass\n",
    "\n",
    "if True:\n",
    "    pass\n",
    "elif condition:\n",
    "    pass"
   ]
  },
  {
   "cell_type": "code",
   "execution_count": 8,
   "metadata": {},
   "outputs": [
    {
     "name": "stdout",
     "output_type": "stream",
     "text": [
      "年龄:24\n",
      "长相：好\n",
      "收入：高\n",
      "见\n"
     ]
    }
   ],
   "source": [
    "age = eval(input('年龄:'))\n",
    "if 20 < age <30:\n",
    "    face = input('长相：')\n",
    "    if face == '好':\n",
    "        shouru = input('收入：')\n",
    "        if shouru == '高':\n",
    "            print('见')\n",
    "        elif shouru == '中等':\n",
    "            gongwuyuan = input('是否为公务员')\n",
    "            if gongwuyuan == '是':\n",
    "                print('见')\n",
    "            else:\n",
    "                print('不见，收入不稳定')\n",
    "        else:\n",
    "            print('不见，收入太低')\n",
    "    else:\n",
    "        print('不见，长的太丑')\n",
    "elif age >= 30:\n",
    "    print('不见，年龄太大了')\n",
    "else :\n",
    "    print('不见，年龄太小了')"
   ]
  },
  {
   "cell_type": "markdown",
   "metadata": {},
   "source": [
    "## EP：\n",
    "- 用户输入一个数字，判断其实奇数还是偶数\n",
    "- 进阶：可以查看下4.5实例研究猜生日"
   ]
  },
  {
   "cell_type": "markdown",
   "metadata": {},
   "source": [
    "## 双向if-else 语句\n",
    "- 如果条件为真，那么走if内部语句，否则走else内部语句"
   ]
  },
  {
   "cell_type": "markdown",
   "metadata": {},
   "source": [
    "## EP：\n",
    "- 产生两个随机整数number1和number2，然后显示给用户，使用户输入数字，并判定其是否正确,如果正确打印“you‘re correct”，否则打印正确错误"
   ]
  },
  {
   "cell_type": "markdown",
   "metadata": {},
   "source": [
    "## 嵌套if 和多向if-elif-else\n",
    "![](../Photo/35.png)"
   ]
  },
  {
   "cell_type": "markdown",
   "metadata": {},
   "source": [
    "## EP：\n",
    "- 提示用户输入一个年份，然后显示表示这一年的动物\n",
    "![](../Photo/36.png)\n",
    "- 计算身体质量指数的程序\n",
    "- BMI = 以千克为单位的体重除以以米为单位的身高\n",
    "![](../Photo/37.png)"
   ]
  },
  {
   "cell_type": "code",
   "execution_count": 4,
   "metadata": {},
   "outputs": [
    {
     "name": "stdout",
     "output_type": "stream",
     "text": [
      "输入年份：1996\n",
      "这年是鼠\n"
     ]
    }
   ],
   "source": [
    "num = eval(input('输入年份：'))\n",
    "year = num % 12\n",
    "if year == 0:\n",
    "    print('这年是猴年')\n",
    "elif year == 1:\n",
    "    print('这年是鸡年')\n",
    "elif year == 2:\n",
    "    print('这年是狗年')\n",
    "elif year == 3:\n",
    "    print('这年是猪年')\n",
    "elif year == 4:\n",
    "    print('这年是鼠年')\n",
    "elif year == 5:\n",
    "    print('这年是牛年')\n",
    "elif year == 6:\n",
    "    print('这年是虎年')\n",
    "elif year == 7:\n",
    "    print('这年是兔年')\n",
    "elif year == 8:\n",
    "    print('这年是龙年')\n",
    "elif year == 9:\n",
    "    print('这年是蛇年')\n",
    "elif year == 10:\n",
    "    print('这年是马年')\n",
    "elif year == 11:\n",
    "    print('这年是羊年')"
   ]
  },
  {
   "cell_type": "code",
   "execution_count": 5,
   "metadata": {},
   "outputs": [
    {
     "name": "stdout",
     "output_type": "stream",
     "text": [
      "体重（单位：千克）：22\n",
      "身高（单位：米）：1.0\n",
      "正常\n"
     ]
    }
   ],
   "source": [
    "w = eval(input('体重（单位：千克）：'))\n",
    "h = eval(input('身高（单位：米）：'))\n",
    "BMI = w / (h ** 2)\n",
    "if BMI<18.5:\n",
    "    print('超轻')\n",
    "elif 18.5 <= BMI < 25.0:\n",
    "    print('正常')\n",
    "elif 25.0 <= BMI < 30.0:\n",
    "    print('超重')\n",
    "elif BMI >= 30.0:\n",
    "    print('肥胖')"
   ]
  },
  {
   "cell_type": "markdown",
   "metadata": {},
   "source": [
    "## 逻辑运算符\n",
    "![](../Photo/38.png)"
   ]
  },
  {
   "cell_type": "markdown",
   "metadata": {},
   "source": [
    "![](../Photo/39.png)\n",
    "![](../Photo/40.png)"
   ]
  },
  {
   "cell_type": "code",
   "execution_count": null,
   "metadata": {},
   "outputs": [],
   "source": [
    "if a and b:\n",
    "    pass\n",
    "\n",
    "if a or b:\n",
    "    pass"
   ]
  },
  {
   "cell_type": "code",
   "execution_count": 6,
   "metadata": {},
   "outputs": [
    {
     "data": {
      "text/plain": [
       "False"
      ]
     },
     "execution_count": 6,
     "metadata": {},
     "output_type": "execute_result"
    }
   ],
   "source": [
    "False and True"
   ]
  },
  {
   "cell_type": "code",
   "execution_count": 8,
   "metadata": {},
   "outputs": [
    {
     "data": {
      "text/plain": [
       "False"
      ]
     },
     "execution_count": 8,
     "metadata": {},
     "output_type": "execute_result"
    }
   ],
   "source": [
    "a = [1,2,3]\n",
    "1 not in a"
   ]
  },
  {
   "cell_type": "code",
   "execution_count": 9,
   "metadata": {},
   "outputs": [
    {
     "data": {
      "text/plain": [
       "False"
      ]
     },
     "execution_count": 9,
     "metadata": {},
     "output_type": "execute_result"
    }
   ],
   "source": [
    "not True"
   ]
  },
  {
   "cell_type": "markdown",
   "metadata": {},
   "source": [
    "## EP：\n",
    "- 判定闰年：一个年份如果能被4整除但不能被100整除，或者能被400整除，那么这个年份就是闰年\n",
    "- 提示用户输入一个年份，并返回是否是闰年\n",
    "- 提示用户输入一个数字，判断其是否为水仙花数"
   ]
  },
  {
   "cell_type": "code",
   "execution_count": 52,
   "metadata": {},
   "outputs": [
    {
     "name": "stdout",
     "output_type": "stream",
     "text": [
      "输入年份：2000\n",
      "闰年\n"
     ]
    }
   ],
   "source": [
    "num = eval(input('输入年份：'))\n",
    "year1 = num % 4\n",
    "year2 = num % 100\n",
    "year3 = num % 400\n",
    "if (year1 == 0) and (year2 != 0) or (year3 == 0):\n",
    "    print('闰年')\n",
    "else:\n",
    "    print('not')"
   ]
  },
  {
   "cell_type": "code",
   "execution_count": 28,
   "metadata": {},
   "outputs": [
    {
     "name": "stdout",
     "output_type": "stream",
     "text": [
      "输入一个数：1634\n",
      "不是水仙花数\n"
     ]
    }
   ],
   "source": [
    "num = eval(input('输入一个数：'))#三位水仙花数153\n",
    "num1 = num %10\n",
    "num2 = num // 10 % 10\n",
    "num3 = num // 100 % 10\n",
    "sum1 = num1 ** 3 + num2 ** 3 + num3 ** 3\n",
    "if sum1 == num:\n",
    "    print('是水仙花数')\n",
    "else:\n",
    "    print('不是水仙花数')"
   ]
  },
  {
   "cell_type": "code",
   "execution_count": 29,
   "metadata": {},
   "outputs": [
    {
     "name": "stdout",
     "output_type": "stream",
     "text": [
      "输入一个数：1634\n",
      "是水仙花数\n"
     ]
    }
   ],
   "source": [
    "num = eval(input('输入一个数：'))#四位水仙花数1634\n",
    "num1 = num %10\n",
    "num2 = num // 10 % 10\n",
    "num3 = num // 100 % 10\n",
    "num4 = num // 1000\n",
    "sum1 = num1 ** 4 + num2 ** 4 + num3 ** 4 + num4 ** 4\n",
    "if sum1 == num:\n",
    "    print('是水仙花数')\n",
    "else:\n",
    "    print('不是水仙花数')"
   ]
  },
  {
   "cell_type": "markdown",
   "metadata": {},
   "source": [
    "## 实例研究：彩票\n",
    "![](../Photo/41.png)"
   ]
  },
  {
   "cell_type": "code",
   "execution_count": 33,
   "metadata": {},
   "outputs": [
    {
     "name": "stdout",
     "output_type": "stream",
     "text": [
      "25\n",
      "输入一个两位数：99\n",
      "很遗憾你没有中奖！\n"
     ]
    }
   ],
   "source": [
    "import random\n",
    "num1 = random.randint(1,9)\n",
    "num2 = random.randint(0,9)\n",
    "# print(str(num1)+str(num2))\n",
    "input_num = eval(input('输入一个两位数：'))\n",
    "two = input_num % 10\n",
    "one = input_num // 10\n",
    "if (num1==one) and (num2==two):\n",
    "    print('恭喜你获得10000美元奖金！')\n",
    "elif (num1==two) and (num2==one):\n",
    "    print('恭喜你获得3000美元奖金！')\n",
    "elif (num1==one) or (num2==one) or (num1==two) or (num2==two):\n",
    "    print('恭喜你获得1000美元奖金！')\n",
    "else:\n",
    "    print('很遗憾你没有中奖！')"
   ]
  },
  {
   "cell_type": "code",
   "execution_count": 37,
   "metadata": {},
   "outputs": [
    {
     "name": "stdout",
     "output_type": "stream",
     "text": [
      "67\n",
      "输入一个两位数：44\n",
      "很遗憾你没有中奖！\n"
     ]
    }
   ],
   "source": [
    "import random\n",
    "num1 = random.randint(1,9)\n",
    "num2 = random.randint(0,9)\n",
    "num = str(num1) + str(num2)\n",
    "# print(num)\n",
    "input_num = input('输入一个两位数：')\n",
    "if input_num==num:\n",
    "    print('恭喜你获得10000美元奖金！')\n",
    "elif (input_num[0] == num[1]) and (input_num[1] == num[0]):\n",
    "    print('恭喜你获得3000美元奖金！')\n",
    "elif (input_num[0] == num[0])or(input_num[0] == num[1])or(input_num[1] == num[0])or(input_num[1] == num[1]):\n",
    "    print('恭喜你获得1000美元奖金！')\n",
    "else:\n",
    "    print('很遗憾你没有中奖！')"
   ]
  },
  {
   "cell_type": "markdown",
   "metadata": {},
   "source": [
    "# Homework\n",
    "- 1\n",
    "![](../Photo/42.png)"
   ]
  },
  {
   "cell_type": "code",
   "execution_count": 46,
   "metadata": {},
   "outputs": [
    {
     "name": "stdout",
     "output_type": "stream",
     "text": [
      "输入a,b,c的值：1,2,1\n",
      "The root is -1.0\n"
     ]
    }
   ],
   "source": [
    "import math\n",
    "a,b,c = eval(input('输入a,b,c的值：'))#一元二次方程ax^2+bx+c=0\n",
    "pbs = b**2 - 4*a*c\n",
    "r1=(-b + math.sqrt(b**2 - 4*a*c)) / 2*a\n",
    "r2=(-b - math.sqrt(b**2 - 4*a*c)) / 2*a\n",
    "if pbs > 0:\n",
    "    print('The roots are ' + str(round(r1,2))+' and '+ str(round(r2,2)))\n",
    "elif pbs == 0:\n",
    "    print('The root is ' + str(round(r1,2)))\n",
    "else:\n",
    "    print('The equation has no real roots')"
   ]
  },
  {
   "cell_type": "markdown",
   "metadata": {},
   "source": [
    "- 2\n",
    "![](../Photo/43.png)"
   ]
  },
  {
   "cell_type": "code",
   "execution_count": 40,
   "metadata": {},
   "outputs": [
    {
     "name": "stdout",
     "output_type": "stream",
     "text": [
      "num1:46\n",
      "num2:82\n",
      "输入num1与num2的和：189\n",
      "答错了，继续努力\n"
     ]
    }
   ],
   "source": [
    "import random\n",
    "num1 = random.randint(0,100)\n",
    "num2 = random.randint(0,100)\n",
    "sum1 = num1 + num2\n",
    "print('num1:'+str(num1))\n",
    "print('num2:'+str(num2))\n",
    "input_sum = eval(input('输入num1与num2的和：'))\n",
    "if input_sum == sum1:\n",
    "    print('恭喜你答对了！')\n",
    "else :\n",
    "    print('答错了，继续努力')"
   ]
  },
  {
   "cell_type": "markdown",
   "metadata": {},
   "source": [
    "- 3\n",
    "![](../Photo/44.png)"
   ]
  },
  {
   "cell_type": "code",
   "execution_count": 48,
   "metadata": {},
   "outputs": [
    {
     "name": "stdout",
     "output_type": "stream",
     "text": [
      "Enter today's day:3\n",
      "Enter the number of days elapsed since today:4\n",
      "4天后是星期日\n"
     ]
    }
   ],
   "source": [
    "week = eval(input('Enter today\\'s day:'))\n",
    "num = eval(input('Enter the number of days elapsed since today:'))\n",
    "day = (week + num) % 7\n",
    "if day == 0:\n",
    "    print(str(num)+'天后是星期日')\n",
    "elif day == 1:\n",
    "    print(str(num)+'天后是星期一')\n",
    "elif day == 2:\n",
    "    print(str(num)+'天后是星期二')\n",
    "elif day == 3:\n",
    "    print(str(num)+'天后是星期三')\n",
    "elif day == 4:\n",
    "    print(str(num)+'天后是星期四')\n",
    "elif day == 5:\n",
    "    print(str(num)+'天后是星期五')\n",
    "elif day == 6:\n",
    "    print(str(num)+'天后是星期六')"
   ]
  },
  {
   "cell_type": "markdown",
   "metadata": {},
   "source": [
    "- 4\n",
    "![](../Photo/45.png)"
   ]
  },
  {
   "cell_type": "code",
   "execution_count": 1,
   "metadata": {},
   "outputs": [
    {
     "name": "stdout",
     "output_type": "stream",
     "text": [
      "输入三个整数：28,98,19\n",
      "[19, 28, 98]\n"
     ]
    }
   ],
   "source": [
    "a,b,c = eval(input('输入三个整数：'))\n",
    "q = [a,b,c]\n",
    "q.sort()\n",
    "print(q)"
   ]
  },
  {
   "cell_type": "markdown",
   "metadata": {},
   "source": [
    "- 5\n",
    "![](../Photo/46.png)"
   ]
  },
  {
   "cell_type": "code",
   "execution_count": 51,
   "metadata": {},
   "outputs": [
    {
     "name": "stdout",
     "output_type": "stream",
     "text": [
      "Enter weight and price for package 1：20,57\n",
      "Enter weight and price for package 2：30,79\n",
      "Pachage 2 has the better price.\n"
     ]
    }
   ],
   "source": [
    "weight1,money1 = eval(input('Enter weight and price for package 1：'))\n",
    "weight2,money2 = eval(input('Enter weight and price for package 2：'))\n",
    "one = money1 / weight1\n",
    "two = money2 / weight2\n",
    "if one > two:\n",
    "    print('Pachage 2 has the better price.')\n",
    "elif one < two:\n",
    "    print('Pachage 1 has the better price.')\n",
    "else:\n",
    "    print('两种包装一样.')"
   ]
  },
  {
   "cell_type": "markdown",
   "metadata": {},
   "source": [
    "- 6\n",
    "![](../Photo/47.png)"
   ]
  },
  {
   "cell_type": "code",
   "execution_count": 61,
   "metadata": {},
   "outputs": [
    {
     "name": "stdout",
     "output_type": "stream",
     "text": [
      "输入月和年：2,2000\n",
      "2000年2月有29天。\n"
     ]
    }
   ],
   "source": [
    "month,year = eval(input('输入月和年：'))\n",
    "year1 = year % 4\n",
    "year2 = year % 100\n",
    "year3 = year % 400\n",
    "month1 = [1,3,5,7,8,10,12]\n",
    "month2 = [4,6,9,11]\n",
    "if month in month1:\n",
    "    print(str(year)+'年'+str(month)+'月有'+'31'+'天。')\n",
    "elif month in month2:\n",
    "    print(str(year)+'年'+str(month)+'月有'+'30'+'天。')\n",
    "elif month == 2:\n",
    "    if (year1 == 0) and (year2 != 0) or (year3 == 0):\n",
    "        print(str(year)+'年'+str(month)+'月有'+'29'+'天。')\n",
    "    else:\n",
    "        print(str(year)+'年'+str(month)+'月有'+'28'+'天。') "
   ]
  },
  {
   "cell_type": "markdown",
   "metadata": {},
   "source": [
    "- 7\n",
    "![](../Photo/48.png)"
   ]
  },
  {
   "cell_type": "code",
   "execution_count": 4,
   "metadata": {},
   "outputs": [
    {
     "name": "stdout",
     "output_type": "stream",
     "text": [
      "0\n",
      "输入猜测值：正\n",
      "恭喜你猜对了！\n"
     ]
    }
   ],
   "source": [
    "import random\n",
    "num = random.randint(0,1)\n",
    "# print(num)\n",
    "number = input('输入猜测值：')\n",
    "if num == 0:\n",
    "    num = '正'\n",
    "elif num == 1:\n",
    "    num = '反'\n",
    "if number != num:\n",
    "    print('对不起你猜错了')\n",
    "else:\n",
    "    print('恭喜你猜对了！')"
   ]
  },
  {
   "cell_type": "markdown",
   "metadata": {},
   "source": [
    "- 8\n",
    "![](../Photo/49.png)"
   ]
  },
  {
   "cell_type": "code",
   "execution_count": null,
   "metadata": {},
   "outputs": [],
   "source": [
    "0 1 2 \n",
    "0 1  y\n",
    "1 2  y\n",
    "2 0  y\n",
    "\n",
    "0 2 s\n",
    "1 0 s\n",
    "2 1 s"
   ]
  },
  {
   "cell_type": "code",
   "execution_count": 10,
   "metadata": {},
   "outputs": [
    {
     "name": "stdout",
     "output_type": "stream",
     "text": [
      "1\n",
      "0\n",
      "You are 石头 too.It is a draw.\n"
     ]
    }
   ],
   "source": [
    "import random\n",
    "a = random.randint(0,2)\n",
    "print(a)\n",
    "num = eval(input(''))\n",
    "if a == num:\n",
    "    print('平局')\n",
    "elif ((a-num)==1) or ((a-num)==-2):\n",
    "    if a==0:\n",
    "        a = '剪刀'\n",
    "    elif a==1:\n",
    "        a = '石头'\n",
    "    elif a==2:\n",
    "        a = '布'\n",
    "    print('You are '+str(a)+' too.It is a draw.')\n",
    "else:\n",
    "    if a==0:\n",
    "        a = '剪刀'\n",
    "    elif a==1:\n",
    "        a = '石头'\n",
    "    elif a==2:\n",
    "        a = '布'\n",
    "    print('You are '+str(a)+'.You won.') "
   ]
  },
  {
   "cell_type": "markdown",
   "metadata": {},
   "source": [
    "- 9\n",
    "![](../Photo/50.png)"
   ]
  },
  {
   "cell_type": "markdown",
   "metadata": {},
   "source": [
    "- 10\n",
    "![](../Photo/51.png)"
   ]
  },
  {
   "cell_type": "code",
   "execution_count": 3,
   "metadata": {},
   "outputs": [
    {
     "name": "stdout",
     "output_type": "stream",
     "text": [
      "['3'] ['方块']\n"
     ]
    }
   ],
   "source": [
    "import random\n",
    "x = ['Ace','2','3','4','5','6','7','8','9','10','Jack','Queen','King']\n",
    "y = random.sample(x,1)\n",
    "z = ['梅花','红桃','方块','黑桃']\n",
    "g = random.sample(z,1)\n",
    "print(y,g)"
   ]
  },
  {
   "cell_type": "markdown",
   "metadata": {},
   "source": [
    "- 11\n",
    "![](../Photo/52.png)"
   ]
  },
  {
   "cell_type": "code",
   "execution_count": 1,
   "metadata": {},
   "outputs": [
    {
     "name": "stdout",
     "output_type": "stream",
     "text": [
      "输入一个三位数：123\n",
      "123 is not a palindrome\n"
     ]
    }
   ],
   "source": [
    "num = eval(input('输入一个三位数：'))\n",
    "if (num //100) == (num %10):\n",
    "    print(num,'is a palindrome')\n",
    "elif (num //100) != (num %10):\n",
    "     print(num,'is not a palindrome')"
   ]
  },
  {
   "cell_type": "markdown",
   "metadata": {},
   "source": [
    "- 12\n",
    "![](../Photo/53.png)"
   ]
  },
  {
   "cell_type": "code",
   "execution_count": 3,
   "metadata": {},
   "outputs": [
    {
     "name": "stdout",
     "output_type": "stream",
     "text": [
      "a,b,c:1,2,3\n",
      "非法的\n"
     ]
    }
   ],
   "source": [
    "a,b,c = eval(input('a,b,c:'))\n",
    "if (a+b > c) and (a+c > b ) and (b+c > a ):\n",
    "    print ('合法')\n",
    "    print('The perimeter',a+b+c)\n",
    "else:\n",
    "    print('非法的')"
   ]
  }
 ],
 "metadata": {
  "kernelspec": {
   "display_name": "Python 3",
   "language": "python",
   "name": "python3"
  },
  "language_info": {
   "codemirror_mode": {
    "name": "ipython",
    "version": 3
   },
   "file_extension": ".py",
   "mimetype": "text/x-python",
   "name": "python",
   "nbconvert_exporter": "python",
   "pygments_lexer": "ipython3",
   "version": "3.6.4"
  }
 },
 "nbformat": 4,
 "nbformat_minor": 2
}
